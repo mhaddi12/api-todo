{
 "cells": [
  {
   "cell_type": "code",
   "execution_count": 10,
   "id": "798597be",
   "metadata": {},
   "outputs": [],
   "source": [
    "\"\"\" To-Do API \"\"\"\n",
    "# To-Do API using FastAPI\n",
    "from fastapi import FastAPI\n",
    "from pydantic import BaseModel\n",
    "import nest_asyncio\n",
    "import uvicorn"
   ]
  },
  {
   "cell_type": "code",
   "execution_count": 11,
   "id": "ff52b998",
   "metadata": {},
   "outputs": [],
   "source": [
    "app = FastAPI()\n",
    "api_store_list = []"
   ]
  },
  {
   "cell_type": "code",
   "execution_count": 12,
   "id": "b41f4de7",
   "metadata": {},
   "outputs": [],
   "source": [
    "class Task(BaseModel):\n",
    "    \"\"\"\n",
    "    Represents a task with a description and completion status.\n",
    "\n",
    "    Attributes:\n",
    "        task (str): The description of the task.\n",
    "        completed (bool): Whether the task is completed.\n",
    "    \"\"\"\n",
    "    task: str\n",
    "    completed: bool = False"
   ]
  },
  {
   "cell_type": "code",
   "execution_count": 13,
   "id": "cc8a285f",
   "metadata": {},
   "outputs": [],
   "source": [
    "@app.post(\"/api/store\")\n",
    "async def create_post(task: Task):\n",
    "    \"\"\"\n",
    "    Create a new task and add it to the API store.\n",
    "\n",
    "    Args:\n",
    "        task (Task): The task to create.\n",
    "\n",
    "    Returns:\n",
    "        dict: A dictionary containing a success message and the created task.\n",
    "    \"\"\"\n",
    "    api_store_list.append(task.task)\n",
    "    return {\"message\": \"Task added successfully\", \"task\": task.task}"
   ]
  },
  {
   "cell_type": "code",
   "execution_count": 14,
   "id": "59cadf89",
   "metadata": {},
   "outputs": [],
   "source": [
    "@app.get(\"/api/store\")\n",
    "async def get_tasks():\n",
    "    \"\"\"\n",
    "    Retrieve all tasks stored in the API.\n",
    "\n",
    "    Returns:\n",
    "        dict: A dictionary containing a list of all tasks under the key 'tasks'.\n",
    "    \"\"\"\n",
    "\n",
    "    return {\"tasks\": api_store_list}"
   ]
  },
  {
   "cell_type": "code",
   "execution_count": 15,
   "id": "5997563d",
   "metadata": {},
   "outputs": [],
   "source": [
    "@app.get(\"/api/store/{task_id}\")\n",
    "async def get_task_by_id(task_id: int):\n",
    "    \"\"\"\n",
    "    Retrieve a task by its ID.\n",
    "\n",
    "    Args:\n",
    "        task_id (int): The ID of the task to retrieve.\n",
    "\n",
    "    Returns:\n",
    "        dict: A dictionary containing the task, or an error message if the task is not found.\n",
    "    \"\"\"\n",
    "    if task_id < len(api_store_list):\n",
    "        return {\"task\": api_store_list[task_id]}\n",
    "    else:\n",
    "        return {\"error\": \"Task not found\"},"
   ]
  },
  {
   "cell_type": "code",
   "execution_count": 16,
   "id": "98ae2eab",
   "metadata": {},
   "outputs": [],
   "source": [
    "@app.put(\"/api/store/{task_id}\")\n",
    "async def update_task(task_id: int, task: Task):\n",
    "    \"\"\"\n",
    "    Update a task by its ID.\n",
    "\n",
    "    Args:\n",
    "        task_id (int): The ID of the task to update.\n",
    "        task (Task): The updated task.\n",
    "\n",
    "    Returns:\n",
    "        dict: A dictionary containing a success message and the updated task, or an error message if the task is not found.\n",
    "    \"\"\"\n",
    "\n",
    "    if task_id < len(api_store_list):\n",
    "        api_store_list.insert(task_id, task.task)\n",
    "        return {\"message\": \"Task updated successfully\", \"task\": task.task}\n",
    "    else:\n",
    "        return {\"error\": \"Task not found\"}\n"
   ]
  },
  {
   "cell_type": "code",
   "execution_count": 17,
   "id": "05fcfdbf",
   "metadata": {},
   "outputs": [],
   "source": [
    "@app.delete(\"/api/store/{task_id}\")\n",
    "async def delete_task(task_id: int):\n",
    "    \"\"\"\n",
    "    Delete a task by its ID.\n",
    "\n",
    "    Args:\n",
    "        task_id (int): The ID of the task to delete.\n",
    "\n",
    "    Returns:\n",
    "        dict: A dictionary containing a success message and the deleted task, or\n",
    "            an error message if the task is not found.\n",
    "    \"\"\"\n",
    "\n",
    "    if (task_id < len(api_store_list)):\n",
    "        deleted_task = api_store_list.pop(task_id)\n",
    "        return {\"message\": \"Task deleted successfully\", \"task\": deleted_task}\n",
    "    else:\n",
    "        return {\"error\": \"Task not found\"}"
   ]
  },
  {
   "cell_type": "code",
   "execution_count": 18,
   "id": "7b5beb4d",
   "metadata": {},
   "outputs": [],
   "source": [
    "@app.get(\"/\")\n",
    "async def read_root():\n",
    "    \"\"\"\n",
    "    Returns a welcome message for the To-Do API.\n",
    "\n",
    "    Returns:\n",
    "        dict: A dictionary containing a welcome message.\n",
    "    \"\"\"\n",
    "    return {\"message\": \"Welcome to the To-Do API!\"}"
   ]
  },
  {
   "cell_type": "code",
   "execution_count": null,
   "id": "87158639",
   "metadata": {},
   "outputs": [
    {
     "name": "stderr",
     "output_type": "stream",
     "text": [
      "INFO:     Started server process [17228]\n",
      "INFO:     Waiting for application startup.\n",
      "INFO:     Application startup complete.\n",
      "INFO:     Uvicorn running on http://127.0.0.1:8000 (Press CTRL+C to quit)\n"
     ]
    },
    {
     "name": "stdout",
     "output_type": "stream",
     "text": [
      "INFO:     127.0.0.1:52561 - \"GET / HTTP/1.1\" 200 OK\n"
     ]
    }
   ],
   "source": [
    "nest_asyncio.apply()\n",
    "\n",
    "# Run the server\n",
    "uvicorn.run(app, host=\"127.0.0.1\", port=8000)"
   ]
  }
 ],
 "metadata": {
  "kernelspec": {
   "display_name": "venv",
   "language": "python",
   "name": "python3"
  },
  "language_info": {
   "codemirror_mode": {
    "name": "ipython",
    "version": 3
   },
   "file_extension": ".py",
   "mimetype": "text/x-python",
   "name": "python",
   "nbconvert_exporter": "python",
   "pygments_lexer": "ipython3",
   "version": "3.13.2"
  }
 },
 "nbformat": 4,
 "nbformat_minor": 5
}
